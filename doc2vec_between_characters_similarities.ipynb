{
 "cells": [
  {
   "cell_type": "code",
   "execution_count": 1,
   "metadata": {},
   "outputs": [],
   "source": [
    "%matplotlib inline"
   ]
  },
  {
   "cell_type": "markdown",
   "metadata": {},
   "source": [
    "\n",
    "Doc2Vec Model\n",
    "============="
   ]
  },
  {
   "cell_type": "code",
   "execution_count": 2,
   "metadata": {},
   "outputs": [],
   "source": [
    "import logging\n",
    "logging.basicConfig(format='%(asctime)s : %(levelname)s : %(message)s', level=logging.INFO)"
   ]
  },
  {
   "cell_type": "code",
   "execution_count": 3,
   "metadata": {},
   "outputs": [],
   "source": [
    "import os\n",
    "import gensim\n",
    "from sklearn import metrics\n",
    "import numpy as np\n",
    "import seaborn as sns; sns.set()\n",
    "from matplotlib import pyplot\n",
    "# Set file names for train and test data\n",
    "train_file = os.path.join('data/all.txt')"
   ]
  },
  {
   "cell_type": "markdown",
   "metadata": {},
   "source": [
    "Define a Function to Read and Preprocess Text\n",
    "---------------------------------------------\n",
    "\n",
    "Below, we define a function to:\n",
    "\n",
    "- open the train/test file (with latin encoding)\n",
    "- read the file line-by-line\n",
    "- pre-process each line (tokenize text into individual words, remove punctuation, set to lowercase, etc)\n",
    "\n",
    "The file we're reading is a **corpus**.\n",
    "Each line of the file is a **document**.\n",
    "\n",
    ".. Important::\n",
    "  To train the model, we'll need to associate a tag/number with each document\n",
    "  of the training corpus. In our case, the tag is simply the zero-based line\n",
    "  number.\n",
    "\n",
    "\n"
   ]
  },
  {
   "cell_type": "code",
   "execution_count": 4,
   "metadata": {},
   "outputs": [],
   "source": [
    "import smart_open\n",
    "\n",
    "def read_corpus(fname, tokens_only=False):\n",
    "    with smart_open.open(fname, encoding=\"iso-8859-1\") as f:\n",
    "        for i, line in enumerate(f):\n",
    "            tokens = gensim.utils.simple_preprocess(line)\n",
    "            if tokens_only:\n",
    "                yield tokens\n",
    "            else:\n",
    "                # For training data, add tags\n",
    "                yield gensim.models.doc2vec.TaggedDocument(tokens, [i])\n",
    "\n",
    "train_corpus = list(read_corpus(train_file))"
   ]
  },
  {
   "cell_type": "markdown",
   "metadata": {},
   "source": [
    "Training the Model\n",
    "------------------\n",
    "\n",
    "Now, we'll instantiate a Doc2Vec model with a vector size with 50 dimensions and\n",
    "iterating over the training corpus 40 times. We set the minimum word count to\n",
    "2 in order to discard words with very few occurrences. (Without a variety of\n",
    "representative examples, retaining such infrequent words can often make a\n",
    "model worse!) Typical iteration counts in the published `Paragraph Vector paper <https://cs.stanford.edu/~quocle/paragraph_vector.pdf>`__\n",
    "results, using 10s-of-thousands to millions of docs, are 10-20. More\n",
    "iterations take more time and eventually reach a point of diminishing\n",
    "returns.\n",
    "\n",
    "However, this is a very very small dataset (300 documents) with shortish\n",
    "documents (a few hundred words). Adding training passes can sometimes help\n",
    "with such small datasets.\n",
    "\n",
    "\n"
   ]
  },
  {
   "cell_type": "code",
   "execution_count": 5,
   "metadata": {},
   "outputs": [
    {
     "name": "stderr",
     "output_type": "stream",
     "text": [
      "2019-11-26 10:41:21,654 : WARNING : consider setting layer size to a multiple of 4 for greater performance\n"
     ]
    }
   ],
   "source": [
    "model = gensim.models.doc2vec.Doc2Vec(vector_size=50, min_count=2, epochs=40)"
   ]
  },
  {
   "cell_type": "markdown",
   "metadata": {},
   "source": [
    "Build a vocabulary\n",
    "\n"
   ]
  },
  {
   "cell_type": "code",
   "execution_count": 6,
   "metadata": {},
   "outputs": [
    {
     "name": "stderr",
     "output_type": "stream",
     "text": [
      "2019-11-26 10:41:21,678 : INFO : collecting all words and their counts\n",
      "2019-11-26 10:41:21,678 : INFO : PROGRESS: at example #0, processed 0 words (0/s), 0 word types, 0 tags\n",
      "2019-11-26 10:41:21,772 : INFO : collected 22668 word types and 37 unique tags from a corpus of 37 examples and 777116 words\n",
      "2019-11-26 10:41:21,772 : INFO : Loading a fresh vocabulary\n",
      "2019-11-26 10:41:21,805 : INFO : effective_min_count=2 retains 14306 unique words (63% of original 22668, drops 8362)\n",
      "2019-11-26 10:41:21,805 : INFO : effective_min_count=2 leaves 768754 word corpus (98% of original 777116, drops 8362)\n",
      "2019-11-26 10:41:21,840 : INFO : deleting the raw counts dictionary of 22668 items\n",
      "2019-11-26 10:41:21,841 : INFO : sample=0.001 downsamples 62 most-common words\n",
      "2019-11-26 10:41:21,841 : INFO : downsampling leaves estimated 581967 word corpus (75.7% of prior 768754)\n",
      "2019-11-26 10:41:21,871 : INFO : estimated required memory for 14306 words and 50 dimensions: 12882800 bytes\n",
      "2019-11-26 10:41:21,872 : INFO : resetting layer weights\n"
     ]
    }
   ],
   "source": [
    "model.build_vocab(train_corpus)"
   ]
  },
  {
   "cell_type": "markdown",
   "metadata": {},
   "source": [
    "Essentially, the vocabulary is a dictionary (accessible via\n",
    "``model.wv.vocab``\\ ) of all of the unique words extracted from the training\n",
    "corpus along with the count (e.g., ``model.wv.vocab['penalty'].count`` for\n",
    "counts for the word ``penalty``\\ ).\n",
    "\n",
    "\n"
   ]
  },
  {
   "cell_type": "markdown",
   "metadata": {},
   "source": [
    "Next, train the model on the corpus.\n",
    "If the BLAS library is being used, this should take no more than 3 seconds.\n",
    "If the BLAS library is not being used, this should take no more than 2\n",
    "minutes, so use BLAS if you value your time.\n",
    "\n",
    "\n"
   ]
  },
  {
   "cell_type": "code",
   "execution_count": 7,
   "metadata": {},
   "outputs": [
    {
     "name": "stderr",
     "output_type": "stream",
     "text": [
      "2019-11-26 10:41:23,685 : INFO : training model with 3 workers on 14306 vocabulary and 50 features, using sg=0 hs=0 sample=0.001 negative=5 window=5\n",
      "2019-11-26 10:41:23,869 : INFO : worker thread finished; awaiting finish of 2 more threads\n",
      "2019-11-26 10:41:23,873 : INFO : worker thread finished; awaiting finish of 1 more threads\n",
      "2019-11-26 10:41:23,879 : INFO : worker thread finished; awaiting finish of 0 more threads\n",
      "2019-11-26 10:41:23,880 : INFO : EPOCH - 1 : training on 777116 raw words (370037 effective words) took 0.2s, 1943325 effective words/s\n",
      "2019-11-26 10:41:24,059 : INFO : worker thread finished; awaiting finish of 2 more threads\n",
      "2019-11-26 10:41:24,062 : INFO : worker thread finished; awaiting finish of 1 more threads\n",
      "2019-11-26 10:41:24,072 : INFO : worker thread finished; awaiting finish of 0 more threads\n",
      "2019-11-26 10:41:24,072 : INFO : EPOCH - 2 : training on 777116 raw words (370037 effective words) took 0.2s, 1963282 effective words/s\n",
      "2019-11-26 10:41:24,250 : INFO : worker thread finished; awaiting finish of 2 more threads\n",
      "2019-11-26 10:41:24,253 : INFO : worker thread finished; awaiting finish of 1 more threads\n",
      "2019-11-26 10:41:24,261 : INFO : worker thread finished; awaiting finish of 0 more threads\n",
      "2019-11-26 10:41:24,262 : INFO : EPOCH - 3 : training on 777116 raw words (370037 effective words) took 0.2s, 1970472 effective words/s\n",
      "2019-11-26 10:41:24,444 : INFO : worker thread finished; awaiting finish of 2 more threads\n",
      "2019-11-26 10:41:24,448 : INFO : worker thread finished; awaiting finish of 1 more threads\n",
      "2019-11-26 10:41:24,450 : INFO : worker thread finished; awaiting finish of 0 more threads\n",
      "2019-11-26 10:41:24,451 : INFO : EPOCH - 4 : training on 777116 raw words (370037 effective words) took 0.2s, 1995847 effective words/s\n",
      "2019-11-26 10:41:24,621 : INFO : worker thread finished; awaiting finish of 2 more threads\n",
      "2019-11-26 10:41:24,624 : INFO : worker thread finished; awaiting finish of 1 more threads\n",
      "2019-11-26 10:41:24,633 : INFO : worker thread finished; awaiting finish of 0 more threads\n",
      "2019-11-26 10:41:24,633 : INFO : EPOCH - 5 : training on 777116 raw words (370037 effective words) took 0.2s, 2067969 effective words/s\n",
      "2019-11-26 10:41:24,809 : INFO : worker thread finished; awaiting finish of 2 more threads\n",
      "2019-11-26 10:41:24,812 : INFO : worker thread finished; awaiting finish of 1 more threads\n",
      "2019-11-26 10:41:24,818 : INFO : worker thread finished; awaiting finish of 0 more threads\n",
      "2019-11-26 10:41:24,819 : INFO : EPOCH - 6 : training on 777116 raw words (370037 effective words) took 0.2s, 2055970 effective words/s\n",
      "2019-11-26 10:41:24,992 : INFO : worker thread finished; awaiting finish of 2 more threads\n",
      "2019-11-26 10:41:24,995 : INFO : worker thread finished; awaiting finish of 1 more threads\n",
      "2019-11-26 10:41:25,005 : INFO : worker thread finished; awaiting finish of 0 more threads\n",
      "2019-11-26 10:41:25,006 : INFO : EPOCH - 7 : training on 777116 raw words (370037 effective words) took 0.2s, 1999805 effective words/s\n",
      "2019-11-26 10:41:25,187 : INFO : worker thread finished; awaiting finish of 2 more threads\n",
      "2019-11-26 10:41:25,191 : INFO : worker thread finished; awaiting finish of 1 more threads\n",
      "2019-11-26 10:41:25,198 : INFO : worker thread finished; awaiting finish of 0 more threads\n",
      "2019-11-26 10:41:25,199 : INFO : EPOCH - 8 : training on 777116 raw words (370037 effective words) took 0.2s, 1965605 effective words/s\n",
      "2019-11-26 10:41:25,388 : INFO : worker thread finished; awaiting finish of 2 more threads\n",
      "2019-11-26 10:41:25,391 : INFO : worker thread finished; awaiting finish of 1 more threads\n",
      "2019-11-26 10:41:25,397 : INFO : worker thread finished; awaiting finish of 0 more threads\n",
      "2019-11-26 10:41:25,398 : INFO : EPOCH - 9 : training on 777116 raw words (370037 effective words) took 0.2s, 1880641 effective words/s\n",
      "2019-11-26 10:41:25,572 : INFO : worker thread finished; awaiting finish of 2 more threads\n",
      "2019-11-26 10:41:25,575 : INFO : worker thread finished; awaiting finish of 1 more threads\n",
      "2019-11-26 10:41:25,578 : INFO : worker thread finished; awaiting finish of 0 more threads\n",
      "2019-11-26 10:41:25,579 : INFO : EPOCH - 10 : training on 777116 raw words (370037 effective words) took 0.2s, 2086127 effective words/s\n",
      "2019-11-26 10:41:25,760 : INFO : worker thread finished; awaiting finish of 2 more threads\n",
      "2019-11-26 10:41:25,765 : INFO : worker thread finished; awaiting finish of 1 more threads\n",
      "2019-11-26 10:41:25,770 : INFO : worker thread finished; awaiting finish of 0 more threads\n",
      "2019-11-26 10:41:25,771 : INFO : EPOCH - 11 : training on 777116 raw words (370037 effective words) took 0.2s, 1966166 effective words/s\n",
      "2019-11-26 10:41:25,945 : INFO : worker thread finished; awaiting finish of 2 more threads\n",
      "2019-11-26 10:41:25,951 : INFO : worker thread finished; awaiting finish of 1 more threads\n",
      "2019-11-26 10:41:25,958 : INFO : worker thread finished; awaiting finish of 0 more threads\n",
      "2019-11-26 10:41:25,958 : INFO : EPOCH - 12 : training on 777116 raw words (370037 effective words) took 0.2s, 2021961 effective words/s\n",
      "2019-11-26 10:41:26,135 : INFO : worker thread finished; awaiting finish of 2 more threads\n",
      "2019-11-26 10:41:26,139 : INFO : worker thread finished; awaiting finish of 1 more threads\n",
      "2019-11-26 10:41:26,142 : INFO : worker thread finished; awaiting finish of 0 more threads\n",
      "2019-11-26 10:41:26,143 : INFO : EPOCH - 13 : training on 777116 raw words (370037 effective words) took 0.2s, 2028847 effective words/s\n",
      "2019-11-26 10:41:26,389 : INFO : worker thread finished; awaiting finish of 2 more threads\n",
      "2019-11-26 10:41:26,393 : INFO : worker thread finished; awaiting finish of 1 more threads\n",
      "2019-11-26 10:41:26,396 : INFO : worker thread finished; awaiting finish of 0 more threads\n",
      "2019-11-26 10:41:26,397 : INFO : EPOCH - 14 : training on 777116 raw words (370037 effective words) took 0.3s, 1470228 effective words/s\n",
      "2019-11-26 10:41:26,571 : INFO : worker thread finished; awaiting finish of 2 more threads\n",
      "2019-11-26 10:41:26,580 : INFO : worker thread finished; awaiting finish of 1 more threads\n",
      "2019-11-26 10:41:26,584 : INFO : worker thread finished; awaiting finish of 0 more threads\n",
      "2019-11-26 10:41:26,585 : INFO : EPOCH - 15 : training on 777116 raw words (370037 effective words) took 0.2s, 2001380 effective words/s\n",
      "2019-11-26 10:41:26,761 : INFO : worker thread finished; awaiting finish of 2 more threads\n",
      "2019-11-26 10:41:26,764 : INFO : worker thread finished; awaiting finish of 1 more threads\n",
      "2019-11-26 10:41:26,770 : INFO : worker thread finished; awaiting finish of 0 more threads\n",
      "2019-11-26 10:41:26,770 : INFO : EPOCH - 16 : training on 777116 raw words (370037 effective words) took 0.2s, 2008800 effective words/s\n",
      "2019-11-26 10:41:26,944 : INFO : worker thread finished; awaiting finish of 2 more threads\n",
      "2019-11-26 10:41:26,948 : INFO : worker thread finished; awaiting finish of 1 more threads\n",
      "2019-11-26 10:41:26,953 : INFO : worker thread finished; awaiting finish of 0 more threads\n",
      "2019-11-26 10:41:26,953 : INFO : EPOCH - 17 : training on 777116 raw words (370037 effective words) took 0.2s, 2071488 effective words/s\n",
      "2019-11-26 10:41:27,137 : INFO : worker thread finished; awaiting finish of 2 more threads\n",
      "2019-11-26 10:41:27,144 : INFO : worker thread finished; awaiting finish of 1 more threads\n",
      "2019-11-26 10:41:27,146 : INFO : worker thread finished; awaiting finish of 0 more threads\n",
      "2019-11-26 10:41:27,147 : INFO : EPOCH - 18 : training on 777116 raw words (370037 effective words) took 0.2s, 1938758 effective words/s\n",
      "2019-11-26 10:41:27,321 : INFO : worker thread finished; awaiting finish of 2 more threads\n",
      "2019-11-26 10:41:27,325 : INFO : worker thread finished; awaiting finish of 1 more threads\n",
      "2019-11-26 10:41:27,329 : INFO : worker thread finished; awaiting finish of 0 more threads\n",
      "2019-11-26 10:41:27,330 : INFO : EPOCH - 19 : training on 777116 raw words (370037 effective words) took 0.2s, 2071619 effective words/s\n",
      "2019-11-26 10:41:27,514 : INFO : worker thread finished; awaiting finish of 2 more threads\n",
      "2019-11-26 10:41:27,520 : INFO : worker thread finished; awaiting finish of 1 more threads\n",
      "2019-11-26 10:41:27,525 : INFO : worker thread finished; awaiting finish of 0 more threads\n"
     ]
    },
    {
     "name": "stderr",
     "output_type": "stream",
     "text": [
      "2019-11-26 10:41:27,525 : INFO : EPOCH - 20 : training on 777116 raw words (370037 effective words) took 0.2s, 1921666 effective words/s\n",
      "2019-11-26 10:41:27,710 : INFO : worker thread finished; awaiting finish of 2 more threads\n",
      "2019-11-26 10:41:27,719 : INFO : worker thread finished; awaiting finish of 1 more threads\n",
      "2019-11-26 10:41:27,723 : INFO : worker thread finished; awaiting finish of 0 more threads\n",
      "2019-11-26 10:41:27,723 : INFO : EPOCH - 21 : training on 777116 raw words (370037 effective words) took 0.2s, 1884107 effective words/s\n",
      "2019-11-26 10:41:27,905 : INFO : worker thread finished; awaiting finish of 2 more threads\n",
      "2019-11-26 10:41:27,908 : INFO : worker thread finished; awaiting finish of 1 more threads\n",
      "2019-11-26 10:41:27,915 : INFO : worker thread finished; awaiting finish of 0 more threads\n",
      "2019-11-26 10:41:27,915 : INFO : EPOCH - 22 : training on 777116 raw words (370037 effective words) took 0.2s, 1961842 effective words/s\n",
      "2019-11-26 10:41:28,088 : INFO : worker thread finished; awaiting finish of 2 more threads\n",
      "2019-11-26 10:41:28,091 : INFO : worker thread finished; awaiting finish of 1 more threads\n",
      "2019-11-26 10:41:28,099 : INFO : worker thread finished; awaiting finish of 0 more threads\n",
      "2019-11-26 10:41:28,099 : INFO : EPOCH - 23 : training on 777116 raw words (370037 effective words) took 0.2s, 2027013 effective words/s\n",
      "2019-11-26 10:41:28,274 : INFO : worker thread finished; awaiting finish of 2 more threads\n",
      "2019-11-26 10:41:28,278 : INFO : worker thread finished; awaiting finish of 1 more threads\n",
      "2019-11-26 10:41:28,284 : INFO : worker thread finished; awaiting finish of 0 more threads\n",
      "2019-11-26 10:41:28,285 : INFO : EPOCH - 24 : training on 777116 raw words (370037 effective words) took 0.2s, 2016116 effective words/s\n",
      "2019-11-26 10:41:28,457 : INFO : worker thread finished; awaiting finish of 2 more threads\n",
      "2019-11-26 10:41:28,460 : INFO : worker thread finished; awaiting finish of 1 more threads\n",
      "2019-11-26 10:41:28,466 : INFO : worker thread finished; awaiting finish of 0 more threads\n",
      "2019-11-26 10:41:28,467 : INFO : EPOCH - 25 : training on 777116 raw words (370037 effective words) took 0.2s, 2050016 effective words/s\n",
      "2019-11-26 10:41:28,638 : INFO : worker thread finished; awaiting finish of 2 more threads\n",
      "2019-11-26 10:41:28,641 : INFO : worker thread finished; awaiting finish of 1 more threads\n",
      "2019-11-26 10:41:28,649 : INFO : worker thread finished; awaiting finish of 0 more threads\n",
      "2019-11-26 10:41:28,649 : INFO : EPOCH - 26 : training on 777116 raw words (370037 effective words) took 0.2s, 2043230 effective words/s\n",
      "2019-11-26 10:41:28,822 : INFO : worker thread finished; awaiting finish of 2 more threads\n",
      "2019-11-26 10:41:28,831 : INFO : worker thread finished; awaiting finish of 1 more threads\n",
      "2019-11-26 10:41:28,833 : INFO : worker thread finished; awaiting finish of 0 more threads\n",
      "2019-11-26 10:41:28,834 : INFO : EPOCH - 27 : training on 777116 raw words (370037 effective words) took 0.2s, 2045538 effective words/s\n",
      "2019-11-26 10:41:29,017 : INFO : worker thread finished; awaiting finish of 2 more threads\n",
      "2019-11-26 10:41:29,020 : INFO : worker thread finished; awaiting finish of 1 more threads\n",
      "2019-11-26 10:41:29,025 : INFO : worker thread finished; awaiting finish of 0 more threads\n",
      "2019-11-26 10:41:29,026 : INFO : EPOCH - 28 : training on 777116 raw words (370037 effective words) took 0.2s, 1941104 effective words/s\n",
      "2019-11-26 10:41:29,213 : INFO : worker thread finished; awaiting finish of 2 more threads\n",
      "2019-11-26 10:41:29,218 : INFO : worker thread finished; awaiting finish of 1 more threads\n",
      "2019-11-26 10:41:29,222 : INFO : worker thread finished; awaiting finish of 0 more threads\n",
      "2019-11-26 10:41:29,223 : INFO : EPOCH - 29 : training on 777116 raw words (370037 effective words) took 0.2s, 1917002 effective words/s\n",
      "2019-11-26 10:41:29,413 : INFO : worker thread finished; awaiting finish of 2 more threads\n",
      "2019-11-26 10:41:29,417 : INFO : worker thread finished; awaiting finish of 1 more threads\n",
      "2019-11-26 10:41:29,420 : INFO : worker thread finished; awaiting finish of 0 more threads\n",
      "2019-11-26 10:41:29,420 : INFO : EPOCH - 30 : training on 777116 raw words (370037 effective words) took 0.2s, 1911256 effective words/s\n",
      "2019-11-26 10:41:29,596 : INFO : worker thread finished; awaiting finish of 2 more threads\n",
      "2019-11-26 10:41:29,600 : INFO : worker thread finished; awaiting finish of 1 more threads\n",
      "2019-11-26 10:41:29,606 : INFO : worker thread finished; awaiting finish of 0 more threads\n",
      "2019-11-26 10:41:29,606 : INFO : EPOCH - 31 : training on 777116 raw words (370037 effective words) took 0.2s, 2024182 effective words/s\n",
      "2019-11-26 10:41:29,780 : INFO : worker thread finished; awaiting finish of 2 more threads\n",
      "2019-11-26 10:41:29,783 : INFO : worker thread finished; awaiting finish of 1 more threads\n",
      "2019-11-26 10:41:29,790 : INFO : worker thread finished; awaiting finish of 0 more threads\n",
      "2019-11-26 10:41:29,791 : INFO : EPOCH - 32 : training on 777116 raw words (370037 effective words) took 0.2s, 2026281 effective words/s\n",
      "2019-11-26 10:41:29,983 : INFO : worker thread finished; awaiting finish of 2 more threads\n",
      "2019-11-26 10:41:29,986 : INFO : worker thread finished; awaiting finish of 1 more threads\n",
      "2019-11-26 10:41:29,990 : INFO : worker thread finished; awaiting finish of 0 more threads\n",
      "2019-11-26 10:41:29,990 : INFO : EPOCH - 33 : training on 777116 raw words (370037 effective words) took 0.2s, 1884997 effective words/s\n",
      "2019-11-26 10:41:30,180 : INFO : worker thread finished; awaiting finish of 2 more threads\n",
      "2019-11-26 10:41:30,183 : INFO : worker thread finished; awaiting finish of 1 more threads\n",
      "2019-11-26 10:41:30,191 : INFO : worker thread finished; awaiting finish of 0 more threads\n",
      "2019-11-26 10:41:30,191 : INFO : EPOCH - 34 : training on 777116 raw words (370037 effective words) took 0.2s, 1853408 effective words/s\n",
      "2019-11-26 10:41:30,366 : INFO : worker thread finished; awaiting finish of 2 more threads\n",
      "2019-11-26 10:41:30,369 : INFO : worker thread finished; awaiting finish of 1 more threads\n",
      "2019-11-26 10:41:30,376 : INFO : worker thread finished; awaiting finish of 0 more threads\n",
      "2019-11-26 10:41:30,376 : INFO : EPOCH - 35 : training on 777116 raw words (370037 effective words) took 0.2s, 2041753 effective words/s\n",
      "2019-11-26 10:41:30,559 : INFO : worker thread finished; awaiting finish of 2 more threads\n",
      "2019-11-26 10:41:30,562 : INFO : worker thread finished; awaiting finish of 1 more threads\n",
      "2019-11-26 10:41:30,569 : INFO : worker thread finished; awaiting finish of 0 more threads\n",
      "2019-11-26 10:41:30,570 : INFO : EPOCH - 36 : training on 777116 raw words (370037 effective words) took 0.2s, 1927109 effective words/s\n",
      "2019-11-26 10:41:30,753 : INFO : worker thread finished; awaiting finish of 2 more threads\n",
      "2019-11-26 10:41:30,757 : INFO : worker thread finished; awaiting finish of 1 more threads\n",
      "2019-11-26 10:41:30,761 : INFO : worker thread finished; awaiting finish of 0 more threads\n",
      "2019-11-26 10:41:30,761 : INFO : EPOCH - 37 : training on 777116 raw words (370037 effective words) took 0.2s, 1960544 effective words/s\n",
      "2019-11-26 10:41:30,936 : INFO : worker thread finished; awaiting finish of 2 more threads\n",
      "2019-11-26 10:41:30,940 : INFO : worker thread finished; awaiting finish of 1 more threads\n",
      "2019-11-26 10:41:30,946 : INFO : worker thread finished; awaiting finish of 0 more threads\n",
      "2019-11-26 10:41:30,946 : INFO : EPOCH - 38 : training on 777116 raw words (370037 effective words) took 0.2s, 2056134 effective words/s\n",
      "2019-11-26 10:41:31,123 : INFO : worker thread finished; awaiting finish of 2 more threads\n",
      "2019-11-26 10:41:31,127 : INFO : worker thread finished; awaiting finish of 1 more threads\n",
      "2019-11-26 10:41:31,134 : INFO : worker thread finished; awaiting finish of 0 more threads\n",
      "2019-11-26 10:41:31,135 : INFO : EPOCH - 39 : training on 777116 raw words (370037 effective words) took 0.2s, 1981799 effective words/s\n",
      "2019-11-26 10:41:31,310 : INFO : worker thread finished; awaiting finish of 2 more threads\n",
      "2019-11-26 10:41:31,313 : INFO : worker thread finished; awaiting finish of 1 more threads\n",
      "2019-11-26 10:41:31,323 : INFO : worker thread finished; awaiting finish of 0 more threads\n"
     ]
    },
    {
     "name": "stderr",
     "output_type": "stream",
     "text": [
      "2019-11-26 10:41:31,323 : INFO : EPOCH - 40 : training on 777116 raw words (370037 effective words) took 0.2s, 1984086 effective words/s\n",
      "2019-11-26 10:41:31,323 : INFO : training on a 31084640 raw words (14801480 effective words) took 7.6s, 1937891 effective words/s\n"
     ]
    }
   ],
   "source": [
    "model.train(train_corpus, total_examples=model.corpus_count, epochs=model.epochs)"
   ]
  },
  {
   "cell_type": "markdown",
   "metadata": {},
   "source": [
    "Now, we can use the trained model to infer a vector for any piece of text\n",
    "by passing a list of words to the ``model.infer_vector`` function. This\n",
    "vector can then be compared with other vectors via cosine similarity.\n",
    "\n",
    "\n"
   ]
  },
  {
   "cell_type": "code",
   "execution_count": 11,
   "metadata": {},
   "outputs": [],
   "source": [
    "with open('data/Between Tragedies/all.log') as f:\n",
    "    lines = f.readlines()\n",
    "\n",
    "similarity_matrix = np.zeros([len(lines),len(lines)])\n",
    "for i in range(len(lines)):\n",
    "    for j in range(len(lines)):\n",
    "        similarity_matrix[i,j] = metrics.pairwise.cosine_similarity(model.infer_vector(lines[i].split()).reshape(1, -1),model.infer_vector(lines[j].split()).reshape(1, -1))"
   ]
  },
  {
   "cell_type": "code",
   "execution_count": 38,
   "metadata": {},
   "outputs": [
    {
     "data": {
      "image/png": "[encoded data removed]",
      "text/plain": [
       "<Figure size 1224x1224 with 2 Axes>"
      ]
     },
     "metadata": {},
     "output_type": "display_data"
    }
   ],
   "source": [
    "with open('data/Between Tragedies/chars.txt') as f:\n",
    "    content = f.read().splitlines()\n",
    "ann_list = [c.replace('.txt','') for c in content]\n",
    "ann_list.remove(\"all.log\")\n",
    "ann_list.remove(\"chars\") \n",
    "\n",
    "mask = np.zeros_like(similarity_matrix)\n",
    "mask[np.triu_indices_from(mask)] = True\n",
    "pyplot.figure(figsize=(17,17))\n",
    "with sns.axes_style(\"white\"):\n",
    "    ax = sns.heatmap(similarity_matrix, mask=mask, cbar = True, annot=False, square = True, vmin=0, vmax=1, cmap= 'coolwarm')"
   ]
  },
  {
   "cell_type": "raw",
   "metadata": {},
   "source": [
    "np.savetxt(\"similarity_matrix.csv\", similarity_matrix, delimiter=\";\")"
   ]
  },
  {
   "cell_type": "markdown",
   "metadata": {},
   "source": [
    "Conclusion\n",
    "----------\n",
    "\n",
    "Let's review what we've seen in this tutorial:\n",
    "\n",
    "0. Review the relevant models: bag-of-words, Word2Vec, Doc2Vec\n",
    "1. Load and preprocess the training and test corpora (see `core_concepts_corpus`)\n",
    "2. Train a Doc2Vec `core_concepts_model` model using the training corpus\n",
    "3. Demonstrate how the trained model can be used to infer a `core_concepts_vector`\n",
    "4. Assess the model\n",
    "5. Test the model on the test corpus\n",
    "\n",
    "That's it! Doc2Vec is a great way to explore relationships between documents.\n",
    "\n",
    "Additional Resources\n",
    "--------------------\n",
    "\n",
    "If you'd like to know more about the subject matter of this tutorial, check out the links below.\n",
    "\n",
    "* `Word2Vec Paper <https://papers.nips.cc/paper/5021-distributed-representations-of-words-and-phrases-and-their-compositionality.pdf>`_\n",
    "* `Doc2Vec Paper <https://cs.stanford.edu/~quocle/paragraph_vector.pdf>`_\n",
    "* `Dr. Michael D. Lee's Website <http://faculty.sites.uci.edu/mdlee>`_\n",
    "* `Lee Corpus <http://faculty.sites.uci.edu/mdlee/similarity-data/>`__\n",
    "* `IMDB Doc2Vec Tutorial <doc2vec-IMDB.ipynb>`_\n",
    "\n",
    "\n"
   ]
  },
  {
   "cell_type": "code",
   "execution_count": null,
   "metadata": {},
   "outputs": [],
   "source": []
  }
 ],
 "metadata": {
  "kernelspec": {
   "display_name": "Python 3",
   "language": "python",
   "name": "python3"
  },
  "language_info": {
   "codemirror_mode": {
    "name": "ipython",
    "version": 3
   },
   "file_extension": ".py",
   "mimetype": "text/x-python",
   "name": "python",
   "nbconvert_exporter": "python",
   "pygments_lexer": "ipython3",
   "version": "3.7.1"
  }
 },
 "nbformat": 4,
 "nbformat_minor": 1
}
