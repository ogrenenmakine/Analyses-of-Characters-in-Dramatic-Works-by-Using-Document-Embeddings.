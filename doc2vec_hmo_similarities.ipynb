{
 "cells": [
  {
   "cell_type": "code",
   "execution_count": 1,
   "metadata": {},
   "outputs": [],
   "source": [
    "%matplotlib inline"
   ]
  },
  {
   "cell_type": "markdown",
   "metadata": {},
   "source": [
    "\n",
    "Doc2Vec Model\n",
    "============="
   ]
  },
  {
   "cell_type": "code",
   "execution_count": 2,
   "metadata": {},
   "outputs": [],
   "source": [
    "import logging\n",
    "logging.basicConfig(format='%(asctime)s : %(levelname)s : %(message)s', level=logging.INFO)"
   ]
  },
  {
   "cell_type": "code",
   "execution_count": 28,
   "metadata": {},
   "outputs": [],
   "source": [
    "import os\n",
    "import gensim\n",
    "from sklearn import metrics\n",
    "import numpy as np\n",
    "# Set file names for train and test data\n",
    "train_file = os.path.join('data/all.txt')"
   ]
  },
  {
   "cell_type": "markdown",
   "metadata": {},
   "source": [
    "Define a Function to Read and Preprocess Text\n",
    "---------------------------------------------\n",
    "\n",
    "Below, we define a function to:\n",
    "\n",
    "- open the train/test file (with latin encoding)\n",
    "- read the file line-by-line\n",
    "- pre-process each line (tokenize text into individual words, remove punctuation, set to lowercase, etc)\n",
    "\n",
    "The file we're reading is a **corpus**.\n",
    "Each line of the file is a **document**.\n",
    "\n",
    ".. Important::\n",
    "  To train the model, we'll need to associate a tag/number with each document\n",
    "  of the training corpus. In our case, the tag is simply the zero-based line\n",
    "  number.\n",
    "\n",
    "\n"
   ]
  },
  {
   "cell_type": "code",
   "execution_count": 5,
   "metadata": {},
   "outputs": [],
   "source": [
    "import smart_open\n",
    "\n",
    "def read_corpus(fname, tokens_only=False):\n",
    "    with smart_open.open(fname, encoding=\"iso-8859-1\") as f:\n",
    "        for i, line in enumerate(f):\n",
    "            tokens = gensim.utils.simple_preprocess(line)\n",
    "            if tokens_only:\n",
    "                yield tokens\n",
    "            else:\n",
    "                # For training data, add tags\n",
    "                yield gensim.models.doc2vec.TaggedDocument(tokens, [i])\n",
    "\n",
    "train_corpus = list(read_corpus(train_file))"
   ]
  },
  {
   "cell_type": "markdown",
   "metadata": {},
   "source": [
    "Training the Model\n",
    "------------------\n",
    "\n",
    "Now, we'll instantiate a Doc2Vec model with a vector size with 50 dimensions and\n",
    "iterating over the training corpus 40 times. We set the minimum word count to\n",
    "2 in order to discard words with very few occurrences. (Without a variety of\n",
    "representative examples, retaining such infrequent words can often make a\n",
    "model worse!) Typical iteration counts in the published `Paragraph Vector paper <https://cs.stanford.edu/~quocle/paragraph_vector.pdf>`__\n",
    "results, using 10s-of-thousands to millions of docs, are 10-20. More\n",
    "iterations take more time and eventually reach a point of diminishing\n",
    "returns.\n",
    "\n",
    "However, this is a very very small dataset (300 documents) with shortish\n",
    "documents (a few hundred words). Adding training passes can sometimes help\n",
    "with such small datasets.\n",
    "\n",
    "\n"
   ]
  },
  {
   "cell_type": "code",
   "execution_count": 7,
   "metadata": {},
   "outputs": [
    {
     "name": "stderr",
     "output_type": "stream",
     "text": [
      "2019-11-17 11:27:53,437 : WARNING : consider setting layer size to a multiple of 4 for greater performance\n"
     ]
    }
   ],
   "source": [
    "model = gensim.models.doc2vec.Doc2Vec(vector_size=50, min_count=2, epochs=40)"
   ]
  },
  {
   "cell_type": "markdown",
   "metadata": {},
   "source": [
    "Build a vocabulary\n",
    "\n"
   ]
  },
  {
   "cell_type": "code",
   "execution_count": 8,
   "metadata": {},
   "outputs": [
    {
     "name": "stderr",
     "output_type": "stream",
     "text": [
      "2019-11-17 11:27:54,809 : INFO : collecting all words and their counts\n",
      "2019-11-17 11:27:54,810 : INFO : PROGRESS: at example #0, processed 0 words (0/s), 0 word types, 0 tags\n",
      "2019-11-17 11:27:54,896 : INFO : collected 22668 word types and 37 unique tags from a corpus of 37 examples and 777116 words\n",
      "2019-11-17 11:27:54,896 : INFO : Loading a fresh vocabulary\n",
      "2019-11-17 11:27:54,949 : INFO : effective_min_count=2 retains 14306 unique words (63% of original 22668, drops 8362)\n",
      "2019-11-17 11:27:54,950 : INFO : effective_min_count=2 leaves 768754 word corpus (98% of original 777116, drops 8362)\n",
      "2019-11-17 11:27:54,980 : INFO : deleting the raw counts dictionary of 22668 items\n",
      "2019-11-17 11:27:54,981 : INFO : sample=0.001 downsamples 62 most-common words\n",
      "2019-11-17 11:27:54,982 : INFO : downsampling leaves estimated 581967 word corpus (75.7% of prior 768754)\n",
      "2019-11-17 11:27:55,010 : INFO : estimated required memory for 14306 words and 50 dimensions: 12882800 bytes\n",
      "2019-11-17 11:27:55,011 : INFO : resetting layer weights\n"
     ]
    }
   ],
   "source": [
    "model.build_vocab(train_corpus)"
   ]
  },
  {
   "cell_type": "markdown",
   "metadata": {},
   "source": [
    "Essentially, the vocabulary is a dictionary (accessible via\n",
    "``model.wv.vocab``\\ ) of all of the unique words extracted from the training\n",
    "corpus along with the count (e.g., ``model.wv.vocab['penalty'].count`` for\n",
    "counts for the word ``penalty``\\ ).\n",
    "\n",
    "\n"
   ]
  },
  {
   "cell_type": "markdown",
   "metadata": {},
   "source": [
    "Next, train the model on the corpus.\n",
    "If the BLAS library is being used, this should take no more than 3 seconds.\n",
    "If the BLAS library is not being used, this should take no more than 2\n",
    "minutes, so use BLAS if you value your time.\n",
    "\n",
    "\n"
   ]
  },
  {
   "cell_type": "code",
   "execution_count": 9,
   "metadata": {},
   "outputs": [
    {
     "name": "stderr",
     "output_type": "stream",
     "text": [
      "2019-11-17 11:27:59,639 : INFO : training model with 3 workers on 14306 vocabulary and 50 features, using sg=0 hs=0 sample=0.001 negative=5 window=5\n",
      "2019-11-17 11:27:59,826 : INFO : worker thread finished; awaiting finish of 2 more threads\n",
      "2019-11-17 11:27:59,826 : INFO : worker thread finished; awaiting finish of 1 more threads\n",
      "2019-11-17 11:27:59,829 : INFO : worker thread finished; awaiting finish of 0 more threads\n",
      "2019-11-17 11:27:59,829 : INFO : EPOCH - 1 : training on 777116 raw words (370037 effective words) took 0.2s, 2002716 effective words/s\n",
      "2019-11-17 11:28:00,004 : INFO : worker thread finished; awaiting finish of 2 more threads\n",
      "2019-11-17 11:28:00,007 : INFO : worker thread finished; awaiting finish of 1 more threads\n",
      "2019-11-17 11:28:00,020 : INFO : worker thread finished; awaiting finish of 0 more threads\n",
      "2019-11-17 11:28:00,020 : INFO : EPOCH - 2 : training on 777116 raw words (370037 effective words) took 0.2s, 1959914 effective words/s\n",
      "2019-11-17 11:28:00,194 : INFO : worker thread finished; awaiting finish of 2 more threads\n",
      "2019-11-17 11:28:00,197 : INFO : worker thread finished; awaiting finish of 1 more threads\n",
      "2019-11-17 11:28:00,206 : INFO : worker thread finished; awaiting finish of 0 more threads\n",
      "2019-11-17 11:28:00,206 : INFO : EPOCH - 3 : training on 777116 raw words (370037 effective words) took 0.2s, 2027324 effective words/s\n",
      "2019-11-17 11:28:00,378 : INFO : worker thread finished; awaiting finish of 2 more threads\n",
      "2019-11-17 11:28:00,381 : INFO : worker thread finished; awaiting finish of 1 more threads\n",
      "2019-11-17 11:28:00,391 : INFO : worker thread finished; awaiting finish of 0 more threads\n",
      "2019-11-17 11:28:00,391 : INFO : EPOCH - 4 : training on 777116 raw words (370037 effective words) took 0.2s, 2020086 effective words/s\n",
      "2019-11-17 11:28:00,561 : INFO : worker thread finished; awaiting finish of 2 more threads\n",
      "2019-11-17 11:28:00,565 : INFO : worker thread finished; awaiting finish of 1 more threads\n",
      "2019-11-17 11:28:00,570 : INFO : worker thread finished; awaiting finish of 0 more threads\n",
      "2019-11-17 11:28:00,571 : INFO : EPOCH - 5 : training on 777116 raw words (370037 effective words) took 0.2s, 2093891 effective words/s\n",
      "2019-11-17 11:28:00,752 : INFO : worker thread finished; awaiting finish of 2 more threads\n",
      "2019-11-17 11:28:00,755 : INFO : worker thread finished; awaiting finish of 1 more threads\n",
      "2019-11-17 11:28:00,766 : INFO : worker thread finished; awaiting finish of 0 more threads\n",
      "2019-11-17 11:28:00,766 : INFO : EPOCH - 6 : training on 777116 raw words (370037 effective words) took 0.2s, 1929245 effective words/s\n",
      "2019-11-17 11:28:00,953 : INFO : worker thread finished; awaiting finish of 2 more threads\n",
      "2019-11-17 11:28:00,956 : INFO : worker thread finished; awaiting finish of 1 more threads\n",
      "2019-11-17 11:28:00,966 : INFO : worker thread finished; awaiting finish of 0 more threads\n",
      "2019-11-17 11:28:00,967 : INFO : EPOCH - 7 : training on 777116 raw words (370037 effective words) took 0.2s, 1858961 effective words/s\n",
      "2019-11-17 11:28:01,138 : INFO : worker thread finished; awaiting finish of 2 more threads\n",
      "2019-11-17 11:28:01,141 : INFO : worker thread finished; awaiting finish of 1 more threads\n",
      "2019-11-17 11:28:01,150 : INFO : worker thread finished; awaiting finish of 0 more threads\n",
      "2019-11-17 11:28:01,151 : INFO : EPOCH - 8 : training on 777116 raw words (370037 effective words) took 0.2s, 2048674 effective words/s\n",
      "2019-11-17 11:28:01,322 : INFO : worker thread finished; awaiting finish of 2 more threads\n",
      "2019-11-17 11:28:01,326 : INFO : worker thread finished; awaiting finish of 1 more threads\n",
      "2019-11-17 11:28:01,335 : INFO : worker thread finished; awaiting finish of 0 more threads\n",
      "2019-11-17 11:28:01,336 : INFO : EPOCH - 9 : training on 777116 raw words (370037 effective words) took 0.2s, 2014119 effective words/s\n",
      "2019-11-17 11:28:01,522 : INFO : worker thread finished; awaiting finish of 2 more threads\n",
      "2019-11-17 11:28:01,529 : INFO : worker thread finished; awaiting finish of 1 more threads\n",
      "2019-11-17 11:28:01,533 : INFO : worker thread finished; awaiting finish of 0 more threads\n",
      "2019-11-17 11:28:01,534 : INFO : EPOCH - 10 : training on 777116 raw words (370037 effective words) took 0.2s, 1910568 effective words/s\n",
      "2019-11-17 11:28:01,711 : INFO : worker thread finished; awaiting finish of 2 more threads\n",
      "2019-11-17 11:28:01,714 : INFO : worker thread finished; awaiting finish of 1 more threads\n",
      "2019-11-17 11:28:01,721 : INFO : worker thread finished; awaiting finish of 0 more threads\n",
      "2019-11-17 11:28:01,722 : INFO : EPOCH - 11 : training on 777116 raw words (370037 effective words) took 0.2s, 2000717 effective words/s\n",
      "2019-11-17 11:28:01,964 : INFO : worker thread finished; awaiting finish of 2 more threads\n",
      "2019-11-17 11:28:01,970 : INFO : worker thread finished; awaiting finish of 1 more threads\n",
      "2019-11-17 11:28:01,979 : INFO : worker thread finished; awaiting finish of 0 more threads\n",
      "2019-11-17 11:28:01,980 : INFO : EPOCH - 12 : training on 777116 raw words (370037 effective words) took 0.3s, 1455088 effective words/s\n",
      "2019-11-17 11:28:02,156 : INFO : worker thread finished; awaiting finish of 2 more threads\n",
      "2019-11-17 11:28:02,159 : INFO : worker thread finished; awaiting finish of 1 more threads\n",
      "2019-11-17 11:28:02,168 : INFO : worker thread finished; awaiting finish of 0 more threads\n",
      "2019-11-17 11:28:02,168 : INFO : EPOCH - 13 : training on 777116 raw words (370037 effective words) took 0.2s, 1994711 effective words/s\n",
      "2019-11-17 11:28:02,346 : INFO : worker thread finished; awaiting finish of 2 more threads\n",
      "2019-11-17 11:28:02,353 : INFO : worker thread finished; awaiting finish of 1 more threads\n",
      "2019-11-17 11:28:02,358 : INFO : worker thread finished; awaiting finish of 0 more threads\n",
      "2019-11-17 11:28:02,359 : INFO : EPOCH - 14 : training on 777116 raw words (370037 effective words) took 0.2s, 1956453 effective words/s\n",
      "2019-11-17 11:28:02,569 : INFO : worker thread finished; awaiting finish of 2 more threads\n",
      "2019-11-17 11:28:02,571 : INFO : worker thread finished; awaiting finish of 1 more threads\n",
      "2019-11-17 11:28:02,581 : INFO : worker thread finished; awaiting finish of 0 more threads\n",
      "2019-11-17 11:28:02,582 : INFO : EPOCH - 15 : training on 777116 raw words (370037 effective words) took 0.2s, 1669930 effective words/s\n",
      "2019-11-17 11:28:02,761 : INFO : worker thread finished; awaiting finish of 2 more threads\n",
      "2019-11-17 11:28:02,764 : INFO : worker thread finished; awaiting finish of 1 more threads\n",
      "2019-11-17 11:28:02,768 : INFO : worker thread finished; awaiting finish of 0 more threads\n",
      "2019-11-17 11:28:02,769 : INFO : EPOCH - 16 : training on 777116 raw words (370037 effective words) took 0.2s, 1996697 effective words/s\n",
      "2019-11-17 11:28:02,967 : INFO : worker thread finished; awaiting finish of 2 more threads\n",
      "2019-11-17 11:28:02,974 : INFO : worker thread finished; awaiting finish of 1 more threads\n",
      "2019-11-17 11:28:02,980 : INFO : worker thread finished; awaiting finish of 0 more threads\n",
      "2019-11-17 11:28:02,980 : INFO : EPOCH - 17 : training on 777116 raw words (370037 effective words) took 0.2s, 1775493 effective words/s\n",
      "2019-11-17 11:28:03,153 : INFO : worker thread finished; awaiting finish of 2 more threads\n",
      "2019-11-17 11:28:03,156 : INFO : worker thread finished; awaiting finish of 1 more threads\n",
      "2019-11-17 11:28:03,163 : INFO : worker thread finished; awaiting finish of 0 more threads\n",
      "2019-11-17 11:28:03,164 : INFO : EPOCH - 18 : training on 777116 raw words (370037 effective words) took 0.2s, 2061665 effective words/s\n",
      "2019-11-17 11:28:03,343 : INFO : worker thread finished; awaiting finish of 2 more threads\n",
      "2019-11-17 11:28:03,346 : INFO : worker thread finished; awaiting finish of 1 more threads\n",
      "2019-11-17 11:28:03,348 : INFO : worker thread finished; awaiting finish of 0 more threads\n",
      "2019-11-17 11:28:03,349 : INFO : EPOCH - 19 : training on 777116 raw words (370037 effective words) took 0.2s, 2017142 effective words/s\n",
      "2019-11-17 11:28:03,569 : INFO : worker thread finished; awaiting finish of 2 more threads\n",
      "2019-11-17 11:28:03,576 : INFO : worker thread finished; awaiting finish of 1 more threads\n",
      "2019-11-17 11:28:03,581 : INFO : worker thread finished; awaiting finish of 0 more threads\n"
     ]
    },
    {
     "name": "stderr",
     "output_type": "stream",
     "text": [
      "2019-11-17 11:28:03,582 : INFO : EPOCH - 20 : training on 777116 raw words (370037 effective words) took 0.2s, 1617535 effective words/s\n",
      "2019-11-17 11:28:03,770 : INFO : worker thread finished; awaiting finish of 2 more threads\n",
      "2019-11-17 11:28:03,773 : INFO : worker thread finished; awaiting finish of 1 more threads\n",
      "2019-11-17 11:28:03,779 : INFO : worker thread finished; awaiting finish of 0 more threads\n",
      "2019-11-17 11:28:03,780 : INFO : EPOCH - 21 : training on 777116 raw words (370037 effective words) took 0.2s, 1883273 effective words/s\n",
      "2019-11-17 11:28:03,962 : INFO : worker thread finished; awaiting finish of 2 more threads\n",
      "2019-11-17 11:28:03,965 : INFO : worker thread finished; awaiting finish of 1 more threads\n",
      "2019-11-17 11:28:03,969 : INFO : worker thread finished; awaiting finish of 0 more threads\n",
      "2019-11-17 11:28:03,970 : INFO : EPOCH - 22 : training on 777116 raw words (370037 effective words) took 0.2s, 1981657 effective words/s\n",
      "2019-11-17 11:28:04,142 : INFO : worker thread finished; awaiting finish of 2 more threads\n",
      "2019-11-17 11:28:04,146 : INFO : worker thread finished; awaiting finish of 1 more threads\n",
      "2019-11-17 11:28:04,151 : INFO : worker thread finished; awaiting finish of 0 more threads\n",
      "2019-11-17 11:28:04,152 : INFO : EPOCH - 23 : training on 777116 raw words (370037 effective words) took 0.2s, 2055973 effective words/s\n",
      "2019-11-17 11:28:04,320 : INFO : worker thread finished; awaiting finish of 2 more threads\n",
      "2019-11-17 11:28:04,328 : INFO : worker thread finished; awaiting finish of 1 more threads\n",
      "2019-11-17 11:28:04,333 : INFO : worker thread finished; awaiting finish of 0 more threads\n",
      "2019-11-17 11:28:04,333 : INFO : EPOCH - 24 : training on 777116 raw words (370037 effective words) took 0.2s, 2075516 effective words/s\n",
      "2019-11-17 11:28:04,505 : INFO : worker thread finished; awaiting finish of 2 more threads\n",
      "2019-11-17 11:28:04,511 : INFO : worker thread finished; awaiting finish of 1 more threads\n",
      "2019-11-17 11:28:04,515 : INFO : worker thread finished; awaiting finish of 0 more threads\n",
      "2019-11-17 11:28:04,515 : INFO : EPOCH - 25 : training on 777116 raw words (370037 effective words) took 0.2s, 2048195 effective words/s\n",
      "2019-11-17 11:28:04,699 : INFO : worker thread finished; awaiting finish of 2 more threads\n",
      "2019-11-17 11:28:04,704 : INFO : worker thread finished; awaiting finish of 1 more threads\n",
      "2019-11-17 11:28:04,708 : INFO : worker thread finished; awaiting finish of 0 more threads\n",
      "2019-11-17 11:28:04,709 : INFO : EPOCH - 26 : training on 777116 raw words (370037 effective words) took 0.2s, 1926674 effective words/s\n",
      "2019-11-17 11:28:04,901 : INFO : worker thread finished; awaiting finish of 2 more threads\n",
      "2019-11-17 11:28:04,904 : INFO : worker thread finished; awaiting finish of 1 more threads\n",
      "2019-11-17 11:28:04,909 : INFO : worker thread finished; awaiting finish of 0 more threads\n",
      "2019-11-17 11:28:04,909 : INFO : EPOCH - 27 : training on 777116 raw words (370037 effective words) took 0.2s, 1858915 effective words/s\n",
      "2019-11-17 11:28:05,101 : INFO : worker thread finished; awaiting finish of 2 more threads\n",
      "2019-11-17 11:28:05,108 : INFO : worker thread finished; awaiting finish of 1 more threads\n",
      "2019-11-17 11:28:05,114 : INFO : worker thread finished; awaiting finish of 0 more threads\n",
      "2019-11-17 11:28:05,114 : INFO : EPOCH - 28 : training on 777116 raw words (370037 effective words) took 0.2s, 1854120 effective words/s\n",
      "2019-11-17 11:28:05,301 : INFO : worker thread finished; awaiting finish of 2 more threads\n",
      "2019-11-17 11:28:05,305 : INFO : worker thread finished; awaiting finish of 1 more threads\n",
      "2019-11-17 11:28:05,311 : INFO : worker thread finished; awaiting finish of 0 more threads\n",
      "2019-11-17 11:28:05,312 : INFO : EPOCH - 29 : training on 777116 raw words (370037 effective words) took 0.2s, 1890842 effective words/s\n",
      "2019-11-17 11:28:05,496 : INFO : worker thread finished; awaiting finish of 2 more threads\n",
      "2019-11-17 11:28:05,501 : INFO : worker thread finished; awaiting finish of 1 more threads\n",
      "2019-11-17 11:28:05,504 : INFO : worker thread finished; awaiting finish of 0 more threads\n",
      "2019-11-17 11:28:05,504 : INFO : EPOCH - 30 : training on 777116 raw words (370037 effective words) took 0.2s, 1933363 effective words/s\n",
      "2019-11-17 11:28:05,689 : INFO : worker thread finished; awaiting finish of 2 more threads\n",
      "2019-11-17 11:28:05,692 : INFO : worker thread finished; awaiting finish of 1 more threads\n",
      "2019-11-17 11:28:05,697 : INFO : worker thread finished; awaiting finish of 0 more threads\n",
      "2019-11-17 11:28:05,697 : INFO : EPOCH - 31 : training on 777116 raw words (370037 effective words) took 0.2s, 1955101 effective words/s\n",
      "2019-11-17 11:28:05,876 : INFO : worker thread finished; awaiting finish of 2 more threads\n",
      "2019-11-17 11:28:05,880 : INFO : worker thread finished; awaiting finish of 1 more threads\n",
      "2019-11-17 11:28:05,887 : INFO : worker thread finished; awaiting finish of 0 more threads\n",
      "2019-11-17 11:28:05,888 : INFO : EPOCH - 32 : training on 777116 raw words (370037 effective words) took 0.2s, 1970060 effective words/s\n",
      "2019-11-17 11:28:06,077 : INFO : worker thread finished; awaiting finish of 2 more threads\n",
      "2019-11-17 11:28:06,083 : INFO : worker thread finished; awaiting finish of 1 more threads\n",
      "2019-11-17 11:28:06,086 : INFO : worker thread finished; awaiting finish of 0 more threads\n",
      "2019-11-17 11:28:06,086 : INFO : EPOCH - 33 : training on 777116 raw words (370037 effective words) took 0.2s, 1894525 effective words/s\n",
      "2019-11-17 11:28:06,270 : INFO : worker thread finished; awaiting finish of 2 more threads\n",
      "2019-11-17 11:28:06,273 : INFO : worker thread finished; awaiting finish of 1 more threads\n",
      "2019-11-17 11:28:06,281 : INFO : worker thread finished; awaiting finish of 0 more threads\n",
      "2019-11-17 11:28:06,282 : INFO : EPOCH - 34 : training on 777116 raw words (370037 effective words) took 0.2s, 1906602 effective words/s\n",
      "2019-11-17 11:28:06,471 : INFO : worker thread finished; awaiting finish of 2 more threads\n",
      "2019-11-17 11:28:06,474 : INFO : worker thread finished; awaiting finish of 1 more threads\n",
      "2019-11-17 11:28:06,478 : INFO : worker thread finished; awaiting finish of 0 more threads\n",
      "2019-11-17 11:28:06,479 : INFO : EPOCH - 35 : training on 777116 raw words (370037 effective words) took 0.2s, 1896108 effective words/s\n",
      "2019-11-17 11:28:06,666 : INFO : worker thread finished; awaiting finish of 2 more threads\n",
      "2019-11-17 11:28:06,670 : INFO : worker thread finished; awaiting finish of 1 more threads\n",
      "2019-11-17 11:28:06,675 : INFO : worker thread finished; awaiting finish of 0 more threads\n",
      "2019-11-17 11:28:06,675 : INFO : EPOCH - 36 : training on 777116 raw words (370037 effective words) took 0.2s, 1896513 effective words/s\n",
      "2019-11-17 11:28:06,859 : INFO : worker thread finished; awaiting finish of 2 more threads\n",
      "2019-11-17 11:28:06,865 : INFO : worker thread finished; awaiting finish of 1 more threads\n",
      "2019-11-17 11:28:06,869 : INFO : worker thread finished; awaiting finish of 0 more threads\n",
      "2019-11-17 11:28:06,870 : INFO : EPOCH - 37 : training on 777116 raw words (370037 effective words) took 0.2s, 1932590 effective words/s\n",
      "2019-11-17 11:28:07,060 : INFO : worker thread finished; awaiting finish of 2 more threads\n",
      "2019-11-17 11:28:07,063 : INFO : worker thread finished; awaiting finish of 1 more threads\n",
      "2019-11-17 11:28:07,072 : INFO : worker thread finished; awaiting finish of 0 more threads\n",
      "2019-11-17 11:28:07,073 : INFO : EPOCH - 38 : training on 777116 raw words (370037 effective words) took 0.2s, 1843670 effective words/s\n",
      "2019-11-17 11:28:07,262 : INFO : worker thread finished; awaiting finish of 2 more threads\n",
      "2019-11-17 11:28:07,265 : INFO : worker thread finished; awaiting finish of 1 more threads\n",
      "2019-11-17 11:28:07,268 : INFO : worker thread finished; awaiting finish of 0 more threads\n",
      "2019-11-17 11:28:07,268 : INFO : EPOCH - 39 : training on 777116 raw words (370037 effective words) took 0.2s, 1926043 effective words/s\n",
      "2019-11-17 11:28:07,461 : INFO : worker thread finished; awaiting finish of 2 more threads\n",
      "2019-11-17 11:28:07,470 : INFO : worker thread finished; awaiting finish of 1 more threads\n",
      "2019-11-17 11:28:07,474 : INFO : worker thread finished; awaiting finish of 0 more threads\n"
     ]
    },
    {
     "name": "stderr",
     "output_type": "stream",
     "text": [
      "2019-11-17 11:28:07,474 : INFO : EPOCH - 40 : training on 777116 raw words (370037 effective words) took 0.2s, 1825374 effective words/s\n",
      "2019-11-17 11:28:07,474 : INFO : training on a 31084640 raw words (14801480 effective words) took 7.8s, 1889244 effective words/s\n"
     ]
    }
   ],
   "source": [
    "model.train(train_corpus, total_examples=model.corpus_count, epochs=model.epochs)"
   ]
  },
  {
   "cell_type": "markdown",
   "metadata": {},
   "source": [
    "Now, we can use the trained model to infer a vector for any piece of text\n",
    "by passing a list of words to the ``model.infer_vector`` function. This\n",
    "vector can then be compared with other vectors via cosine similarity.\n",
    "\n",
    "\n"
   ]
  },
  {
   "cell_type": "code",
   "execution_count": 11,
   "metadata": {},
   "outputs": [],
   "source": [
    "with open('data/HMO/all_characters.txt') as f:\n",
    "    lines = f.readlines()"
   ]
  },
  {
   "cell_type": "code",
   "execution_count": 30,
   "metadata": {},
   "outputs": [],
   "source": [
    "similarity_matrix = np.zeros([29,29])\n",
    "for i in range(29):\n",
    "    for j in range(29):\n",
    "        similarity_matrix[i,j] = metrics.pairwise.cosine_similarity(model.infer_vector(lines[i].split()).reshape(1, -1),model.infer_vector(lines[j].split()).reshape(1, -1))"
   ]
  },
  {
   "cell_type": "code",
   "execution_count": 34,
   "metadata": {},
   "outputs": [
    {
     "data": {
      "image/png": "[encoded data removed]",
      "text/plain": [
       "<Figure size 432x288 with 2 Axes>"
      ]
     },
     "metadata": {},
     "output_type": "display_data"
    }
   ],
   "source": [
    "import seaborn as sns; sns.set()\n",
    "ax = sns.heatmap(similarity_matrix)"
   ]
  },
  {
   "cell_type": "code",
   "execution_count": 33,
   "metadata": {},
   "outputs": [],
   "source": [
    "np.savetxt(\"similarity_matrix.csv\", similarity_matrix, delimiter=\";\")"
   ]
  },
  {
   "cell_type": "markdown",
   "metadata": {},
   "source": [
    "Conclusion\n",
    "----------\n",
    "\n",
    "Let's review what we've seen in this tutorial:\n",
    "\n",
    "0. Review the relevant models: bag-of-words, Word2Vec, Doc2Vec\n",
    "1. Load and preprocess the training and test corpora (see `core_concepts_corpus`)\n",
    "2. Train a Doc2Vec `core_concepts_model` model using the training corpus\n",
    "3. Demonstrate how the trained model can be used to infer a `core_concepts_vector`\n",
    "4. Assess the model\n",
    "5. Test the model on the test corpus\n",
    "\n",
    "That's it! Doc2Vec is a great way to explore relationships between documents.\n",
    "\n",
    "Additional Resources\n",
    "--------------------\n",
    "\n",
    "If you'd like to know more about the subject matter of this tutorial, check out the links below.\n",
    "\n",
    "* `Word2Vec Paper <https://papers.nips.cc/paper/5021-distributed-representations-of-words-and-phrases-and-their-compositionality.pdf>`_\n",
    "* `Doc2Vec Paper <https://cs.stanford.edu/~quocle/paragraph_vector.pdf>`_\n",
    "* `Dr. Michael D. Lee's Website <http://faculty.sites.uci.edu/mdlee>`_\n",
    "* `Lee Corpus <http://faculty.sites.uci.edu/mdlee/similarity-data/>`__\n",
    "* `IMDB Doc2Vec Tutorial <doc2vec-IMDB.ipynb>`_\n",
    "\n",
    "\n"
   ]
  }
 ],
 "metadata": {
  "kernelspec": {
   "display_name": "Python 3",
   "language": "python",
   "name": "python3"
  },
  "language_info": {
   "codemirror_mode": {
    "name": "ipython",
    "version": 3
   },
   "file_extension": ".py",
   "mimetype": "text/x-python",
   "name": "python",
   "nbconvert_exporter": "python",
   "pygments_lexer": "ipython3",
   "version": "3.7.1"
  }
 },
 "nbformat": 4,
 "nbformat_minor": 1
}
