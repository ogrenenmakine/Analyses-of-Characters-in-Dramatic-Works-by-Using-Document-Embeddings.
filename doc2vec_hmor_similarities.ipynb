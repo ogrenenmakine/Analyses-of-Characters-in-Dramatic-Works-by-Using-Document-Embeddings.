{
 "cells": [
  {
   "cell_type": "code",
   "execution_count": 1,
   "metadata": {},
   "outputs": [],
   "source": [
    "%matplotlib inline"
   ]
  },
  {
   "cell_type": "markdown",
   "metadata": {},
   "source": [
    "\n",
    "Doc2Vec Model\n",
    "============="
   ]
  },
  {
   "cell_type": "code",
   "execution_count": 2,
   "metadata": {},
   "outputs": [],
   "source": [
    "import logging\n",
    "logging.basicConfig(format='%(asctime)s : %(levelname)s : %(message)s', level=logging.INFO)"
   ]
  },
  {
   "cell_type": "code",
   "execution_count": 3,
   "metadata": {},
   "outputs": [],
   "source": [
    "import os\n",
    "import gensim\n",
    "from sklearn import metrics\n",
    "import numpy as np\n",
    "# Set file names for train and test data\n",
    "train_file = os.path.join('data/all.txt')"
   ]
  },
  {
   "cell_type": "markdown",
   "metadata": {},
   "source": [
    "Define a Function to Read and Preprocess Text\n",
    "---------------------------------------------\n",
    "\n",
    "Below, we define a function to:\n",
    "\n",
    "- open the train/test file (with latin encoding)\n",
    "- read the file line-by-line\n",
    "- pre-process each line (tokenize text into individual words, remove punctuation, set to lowercase, etc)\n",
    "\n",
    "The file we're reading is a **corpus**.\n",
    "Each line of the file is a **document**.\n",
    "\n",
    ".. Important::\n",
    "  To train the model, we'll need to associate a tag/number with each document\n",
    "  of the training corpus. In our case, the tag is simply the zero-based line\n",
    "  number.\n",
    "\n",
    "\n"
   ]
  },
  {
   "cell_type": "code",
   "execution_count": 4,
   "metadata": {},
   "outputs": [],
   "source": [
    "import smart_open\n",
    "\n",
    "def read_corpus(fname, tokens_only=False):\n",
    "    with smart_open.open(fname, encoding=\"iso-8859-1\") as f:\n",
    "        for i, line in enumerate(f):\n",
    "            tokens = gensim.utils.simple_preprocess(line)\n",
    "            if tokens_only:\n",
    "                yield tokens\n",
    "            else:\n",
    "                # For training data, add tags\n",
    "                yield gensim.models.doc2vec.TaggedDocument(tokens, [i])\n",
    "\n",
    "train_corpus = list(read_corpus(train_file))"
   ]
  },
  {
   "cell_type": "markdown",
   "metadata": {},
   "source": [
    "Training the Model\n",
    "------------------\n",
    "\n",
    "Now, we'll instantiate a Doc2Vec model with a vector size with 50 dimensions and\n",
    "iterating over the training corpus 40 times. We set the minimum word count to\n",
    "2 in order to discard words with very few occurrences. (Without a variety of\n",
    "representative examples, retaining such infrequent words can often make a\n",
    "model worse!) Typical iteration counts in the published `Paragraph Vector paper <https://cs.stanford.edu/~quocle/paragraph_vector.pdf>`__\n",
    "results, using 10s-of-thousands to millions of docs, are 10-20. More\n",
    "iterations take more time and eventually reach a point of diminishing\n",
    "returns.\n",
    "\n",
    "However, this is a very very small dataset (300 documents) with shortish\n",
    "documents (a few hundred words). Adding training passes can sometimes help\n",
    "with such small datasets.\n",
    "\n",
    "\n"
   ]
  },
  {
   "cell_type": "code",
   "execution_count": 5,
   "metadata": {},
   "outputs": [
    {
     "name": "stderr",
     "output_type": "stream",
     "text": [
      "2019-11-17 12:59:16,125 : WARNING : consider setting layer size to a multiple of 4 for greater performance\n"
     ]
    }
   ],
   "source": [
    "model = gensim.models.doc2vec.Doc2Vec(vector_size=50, min_count=2, epochs=40)"
   ]
  },
  {
   "cell_type": "markdown",
   "metadata": {},
   "source": [
    "Build a vocabulary\n",
    "\n"
   ]
  },
  {
   "cell_type": "code",
   "execution_count": 6,
   "metadata": {},
   "outputs": [
    {
     "name": "stderr",
     "output_type": "stream",
     "text": [
      "2019-11-17 12:59:16,140 : INFO : collecting all words and their counts\n",
      "2019-11-17 12:59:16,141 : INFO : PROGRESS: at example #0, processed 0 words (0/s), 0 word types, 0 tags\n",
      "2019-11-17 12:59:16,224 : INFO : collected 22668 word types and 37 unique tags from a corpus of 37 examples and 777116 words\n",
      "2019-11-17 12:59:16,224 : INFO : Loading a fresh vocabulary\n",
      "2019-11-17 12:59:16,255 : INFO : effective_min_count=2 retains 14306 unique words (63% of original 22668, drops 8362)\n",
      "2019-11-17 12:59:16,255 : INFO : effective_min_count=2 leaves 768754 word corpus (98% of original 777116, drops 8362)\n",
      "2019-11-17 12:59:16,283 : INFO : deleting the raw counts dictionary of 22668 items\n",
      "2019-11-17 12:59:16,283 : INFO : sample=0.001 downsamples 62 most-common words\n",
      "2019-11-17 12:59:16,284 : INFO : downsampling leaves estimated 581967 word corpus (75.7% of prior 768754)\n",
      "2019-11-17 12:59:16,307 : INFO : estimated required memory for 14306 words and 50 dimensions: 12882800 bytes\n",
      "2019-11-17 12:59:16,308 : INFO : resetting layer weights\n"
     ]
    }
   ],
   "source": [
    "model.build_vocab(train_corpus)"
   ]
  },
  {
   "cell_type": "markdown",
   "metadata": {},
   "source": [
    "Essentially, the vocabulary is a dictionary (accessible via\n",
    "``model.wv.vocab``\\ ) of all of the unique words extracted from the training\n",
    "corpus along with the count (e.g., ``model.wv.vocab['penalty'].count`` for\n",
    "counts for the word ``penalty``\\ ).\n",
    "\n",
    "\n"
   ]
  },
  {
   "cell_type": "markdown",
   "metadata": {},
   "source": [
    "Next, train the model on the corpus.\n",
    "If the BLAS library is being used, this should take no more than 3 seconds.\n",
    "If the BLAS library is not being used, this should take no more than 2\n",
    "minutes, so use BLAS if you value your time.\n",
    "\n",
    "\n"
   ]
  },
  {
   "cell_type": "code",
   "execution_count": 7,
   "metadata": {},
   "outputs": [
    {
     "name": "stderr",
     "output_type": "stream",
     "text": [
      "2019-11-17 12:59:18,109 : INFO : training model with 3 workers on 14306 vocabulary and 50 features, using sg=0 hs=0 sample=0.001 negative=5 window=5\n",
      "2019-11-17 12:59:18,287 : INFO : worker thread finished; awaiting finish of 2 more threads\n",
      "2019-11-17 12:59:18,290 : INFO : worker thread finished; awaiting finish of 1 more threads\n",
      "2019-11-17 12:59:18,299 : INFO : worker thread finished; awaiting finish of 0 more threads\n",
      "2019-11-17 12:59:18,300 : INFO : EPOCH - 1 : training on 777116 raw words (370037 effective words) took 0.2s, 1961153 effective words/s\n",
      "2019-11-17 12:59:18,494 : INFO : worker thread finished; awaiting finish of 2 more threads\n",
      "2019-11-17 12:59:18,499 : INFO : worker thread finished; awaiting finish of 1 more threads\n",
      "2019-11-17 12:59:18,503 : INFO : worker thread finished; awaiting finish of 0 more threads\n",
      "2019-11-17 12:59:18,503 : INFO : EPOCH - 2 : training on 777116 raw words (370037 effective words) took 0.2s, 1842915 effective words/s\n",
      "2019-11-17 12:59:18,686 : INFO : worker thread finished; awaiting finish of 2 more threads\n",
      "2019-11-17 12:59:18,690 : INFO : worker thread finished; awaiting finish of 1 more threads\n",
      "2019-11-17 12:59:18,696 : INFO : worker thread finished; awaiting finish of 0 more threads\n",
      "2019-11-17 12:59:18,696 : INFO : EPOCH - 3 : training on 777116 raw words (370037 effective words) took 0.2s, 1939585 effective words/s\n",
      "2019-11-17 12:59:18,880 : INFO : worker thread finished; awaiting finish of 2 more threads\n",
      "2019-11-17 12:59:18,886 : INFO : worker thread finished; awaiting finish of 1 more threads\n",
      "2019-11-17 12:59:18,892 : INFO : worker thread finished; awaiting finish of 0 more threads\n",
      "2019-11-17 12:59:18,893 : INFO : EPOCH - 4 : training on 777116 raw words (370037 effective words) took 0.2s, 1917245 effective words/s\n",
      "2019-11-17 12:59:19,067 : INFO : worker thread finished; awaiting finish of 2 more threads\n",
      "2019-11-17 12:59:19,071 : INFO : worker thread finished; awaiting finish of 1 more threads\n",
      "2019-11-17 12:59:19,079 : INFO : worker thread finished; awaiting finish of 0 more threads\n",
      "2019-11-17 12:59:19,079 : INFO : EPOCH - 5 : training on 777116 raw words (370037 effective words) took 0.2s, 2023491 effective words/s\n",
      "2019-11-17 12:59:19,254 : INFO : worker thread finished; awaiting finish of 2 more threads\n",
      "2019-11-17 12:59:19,258 : INFO : worker thread finished; awaiting finish of 1 more threads\n",
      "2019-11-17 12:59:19,268 : INFO : worker thread finished; awaiting finish of 0 more threads\n",
      "2019-11-17 12:59:19,268 : INFO : EPOCH - 6 : training on 777116 raw words (370037 effective words) took 0.2s, 1982374 effective words/s\n",
      "2019-11-17 12:59:19,444 : INFO : worker thread finished; awaiting finish of 2 more threads\n",
      "2019-11-17 12:59:19,448 : INFO : worker thread finished; awaiting finish of 1 more threads\n",
      "2019-11-17 12:59:19,457 : INFO : worker thread finished; awaiting finish of 0 more threads\n",
      "2019-11-17 12:59:19,458 : INFO : EPOCH - 7 : training on 777116 raw words (370037 effective words) took 0.2s, 1967830 effective words/s\n",
      "2019-11-17 12:59:19,629 : INFO : worker thread finished; awaiting finish of 2 more threads\n",
      "2019-11-17 12:59:19,632 : INFO : worker thread finished; awaiting finish of 1 more threads\n",
      "2019-11-17 12:59:19,640 : INFO : worker thread finished; awaiting finish of 0 more threads\n",
      "2019-11-17 12:59:19,641 : INFO : EPOCH - 8 : training on 777116 raw words (370037 effective words) took 0.2s, 2040793 effective words/s\n",
      "2019-11-17 12:59:19,832 : INFO : worker thread finished; awaiting finish of 2 more threads\n",
      "2019-11-17 12:59:19,835 : INFO : worker thread finished; awaiting finish of 1 more threads\n",
      "2019-11-17 12:59:19,841 : INFO : worker thread finished; awaiting finish of 0 more threads\n",
      "2019-11-17 12:59:19,841 : INFO : EPOCH - 9 : training on 777116 raw words (370037 effective words) took 0.2s, 1875058 effective words/s\n",
      "2019-11-17 12:59:20,018 : INFO : worker thread finished; awaiting finish of 2 more threads\n",
      "2019-11-17 12:59:20,021 : INFO : worker thread finished; awaiting finish of 1 more threads\n",
      "2019-11-17 12:59:20,027 : INFO : worker thread finished; awaiting finish of 0 more threads\n",
      "2019-11-17 12:59:20,028 : INFO : EPOCH - 10 : training on 777116 raw words (370037 effective words) took 0.2s, 2004516 effective words/s\n",
      "2019-11-17 12:59:20,211 : INFO : worker thread finished; awaiting finish of 2 more threads\n",
      "2019-11-17 12:59:20,217 : INFO : worker thread finished; awaiting finish of 1 more threads\n",
      "2019-11-17 12:59:20,219 : INFO : worker thread finished; awaiting finish of 0 more threads\n",
      "2019-11-17 12:59:20,220 : INFO : EPOCH - 11 : training on 777116 raw words (370037 effective words) took 0.2s, 1963445 effective words/s\n",
      "2019-11-17 12:59:20,391 : INFO : worker thread finished; awaiting finish of 2 more threads\n",
      "2019-11-17 12:59:20,395 : INFO : worker thread finished; awaiting finish of 1 more threads\n",
      "2019-11-17 12:59:20,400 : INFO : worker thread finished; awaiting finish of 0 more threads\n",
      "2019-11-17 12:59:20,401 : INFO : EPOCH - 12 : training on 777116 raw words (370037 effective words) took 0.2s, 2060885 effective words/s\n",
      "2019-11-17 12:59:20,603 : INFO : worker thread finished; awaiting finish of 2 more threads\n",
      "2019-11-17 12:59:20,610 : INFO : worker thread finished; awaiting finish of 1 more threads\n",
      "2019-11-17 12:59:20,614 : INFO : worker thread finished; awaiting finish of 0 more threads\n",
      "2019-11-17 12:59:20,615 : INFO : EPOCH - 13 : training on 777116 raw words (370037 effective words) took 0.2s, 1758141 effective words/s\n",
      "2019-11-17 12:59:20,795 : INFO : worker thread finished; awaiting finish of 2 more threads\n",
      "2019-11-17 12:59:20,799 : INFO : worker thread finished; awaiting finish of 1 more threads\n",
      "2019-11-17 12:59:20,802 : INFO : worker thread finished; awaiting finish of 0 more threads\n",
      "2019-11-17 12:59:20,802 : INFO : EPOCH - 14 : training on 777116 raw words (370037 effective words) took 0.2s, 2018423 effective words/s\n",
      "2019-11-17 12:59:20,982 : INFO : worker thread finished; awaiting finish of 2 more threads\n",
      "2019-11-17 12:59:20,985 : INFO : worker thread finished; awaiting finish of 1 more threads\n",
      "2019-11-17 12:59:20,995 : INFO : worker thread finished; awaiting finish of 0 more threads\n",
      "2019-11-17 12:59:20,995 : INFO : EPOCH - 15 : training on 777116 raw words (370037 effective words) took 0.2s, 1978909 effective words/s\n",
      "2019-11-17 12:59:21,164 : INFO : worker thread finished; awaiting finish of 2 more threads\n",
      "2019-11-17 12:59:21,169 : INFO : worker thread finished; awaiting finish of 1 more threads\n",
      "2019-11-17 12:59:21,175 : INFO : worker thread finished; awaiting finish of 0 more threads\n",
      "2019-11-17 12:59:21,176 : INFO : EPOCH - 16 : training on 777116 raw words (370037 effective words) took 0.2s, 2071333 effective words/s\n",
      "2019-11-17 12:59:21,358 : INFO : worker thread finished; awaiting finish of 2 more threads\n",
      "2019-11-17 12:59:21,361 : INFO : worker thread finished; awaiting finish of 1 more threads\n",
      "2019-11-17 12:59:21,368 : INFO : worker thread finished; awaiting finish of 0 more threads\n",
      "2019-11-17 12:59:21,369 : INFO : EPOCH - 17 : training on 777116 raw words (370037 effective words) took 0.2s, 1961147 effective words/s\n",
      "2019-11-17 12:59:21,545 : INFO : worker thread finished; awaiting finish of 2 more threads\n",
      "2019-11-17 12:59:21,551 : INFO : worker thread finished; awaiting finish of 1 more threads\n",
      "2019-11-17 12:59:21,556 : INFO : worker thread finished; awaiting finish of 0 more threads\n",
      "2019-11-17 12:59:21,556 : INFO : EPOCH - 18 : training on 777116 raw words (370037 effective words) took 0.2s, 1999090 effective words/s\n",
      "2019-11-17 12:59:21,727 : INFO : worker thread finished; awaiting finish of 2 more threads\n",
      "2019-11-17 12:59:21,734 : INFO : worker thread finished; awaiting finish of 1 more threads\n",
      "2019-11-17 12:59:21,738 : INFO : worker thread finished; awaiting finish of 0 more threads\n",
      "2019-11-17 12:59:21,738 : INFO : EPOCH - 19 : training on 777116 raw words (370037 effective words) took 0.2s, 2054940 effective words/s\n",
      "2019-11-17 12:59:21,915 : INFO : worker thread finished; awaiting finish of 2 more threads\n",
      "2019-11-17 12:59:21,919 : INFO : worker thread finished; awaiting finish of 1 more threads\n",
      "2019-11-17 12:59:21,928 : INFO : worker thread finished; awaiting finish of 0 more threads\n"
     ]
    },
    {
     "name": "stderr",
     "output_type": "stream",
     "text": [
      "2019-11-17 12:59:21,929 : INFO : EPOCH - 20 : training on 777116 raw words (370037 effective words) took 0.2s, 1965002 effective words/s\n",
      "2019-11-17 12:59:22,100 : INFO : worker thread finished; awaiting finish of 2 more threads\n",
      "2019-11-17 12:59:22,103 : INFO : worker thread finished; awaiting finish of 1 more threads\n",
      "2019-11-17 12:59:22,111 : INFO : worker thread finished; awaiting finish of 0 more threads\n",
      "2019-11-17 12:59:22,111 : INFO : EPOCH - 21 : training on 777116 raw words (370037 effective words) took 0.2s, 2047225 effective words/s\n",
      "2019-11-17 12:59:22,295 : INFO : worker thread finished; awaiting finish of 2 more threads\n",
      "2019-11-17 12:59:22,302 : INFO : worker thread finished; awaiting finish of 1 more threads\n",
      "2019-11-17 12:59:22,306 : INFO : worker thread finished; awaiting finish of 0 more threads\n",
      "2019-11-17 12:59:22,307 : INFO : EPOCH - 22 : training on 777116 raw words (370037 effective words) took 0.2s, 1909283 effective words/s\n",
      "2019-11-17 12:59:22,480 : INFO : worker thread finished; awaiting finish of 2 more threads\n",
      "2019-11-17 12:59:22,483 : INFO : worker thread finished; awaiting finish of 1 more threads\n",
      "2019-11-17 12:59:22,490 : INFO : worker thread finished; awaiting finish of 0 more threads\n",
      "2019-11-17 12:59:22,491 : INFO : EPOCH - 23 : training on 777116 raw words (370037 effective words) took 0.2s, 2063480 effective words/s\n",
      "2019-11-17 12:59:22,668 : INFO : worker thread finished; awaiting finish of 2 more threads\n",
      "2019-11-17 12:59:22,671 : INFO : worker thread finished; awaiting finish of 1 more threads\n",
      "2019-11-17 12:59:22,681 : INFO : worker thread finished; awaiting finish of 0 more threads\n",
      "2019-11-17 12:59:22,681 : INFO : EPOCH - 24 : training on 777116 raw words (370037 effective words) took 0.2s, 1959523 effective words/s\n",
      "2019-11-17 12:59:22,863 : INFO : worker thread finished; awaiting finish of 2 more threads\n",
      "2019-11-17 12:59:22,868 : INFO : worker thread finished; awaiting finish of 1 more threads\n",
      "2019-11-17 12:59:22,873 : INFO : worker thread finished; awaiting finish of 0 more threads\n",
      "2019-11-17 12:59:22,873 : INFO : EPOCH - 25 : training on 777116 raw words (370037 effective words) took 0.2s, 1943960 effective words/s\n",
      "2019-11-17 12:59:23,061 : INFO : worker thread finished; awaiting finish of 2 more threads\n",
      "2019-11-17 12:59:23,065 : INFO : worker thread finished; awaiting finish of 1 more threads\n",
      "2019-11-17 12:59:23,066 : INFO : worker thread finished; awaiting finish of 0 more threads\n",
      "2019-11-17 12:59:23,067 : INFO : EPOCH - 26 : training on 777116 raw words (370037 effective words) took 0.2s, 1945181 effective words/s\n",
      "2019-11-17 12:59:23,251 : INFO : worker thread finished; awaiting finish of 2 more threads\n",
      "2019-11-17 12:59:23,256 : INFO : worker thread finished; awaiting finish of 1 more threads\n",
      "2019-11-17 12:59:23,262 : INFO : worker thread finished; awaiting finish of 0 more threads\n",
      "2019-11-17 12:59:23,263 : INFO : EPOCH - 27 : training on 777116 raw words (370037 effective words) took 0.2s, 1902984 effective words/s\n",
      "2019-11-17 12:59:23,439 : INFO : worker thread finished; awaiting finish of 2 more threads\n",
      "2019-11-17 12:59:23,442 : INFO : worker thread finished; awaiting finish of 1 more threads\n",
      "2019-11-17 12:59:23,453 : INFO : worker thread finished; awaiting finish of 0 more threads\n",
      "2019-11-17 12:59:23,453 : INFO : EPOCH - 28 : training on 777116 raw words (370037 effective words) took 0.2s, 1959805 effective words/s\n",
      "2019-11-17 12:59:23,649 : INFO : worker thread finished; awaiting finish of 2 more threads\n",
      "2019-11-17 12:59:23,651 : INFO : worker thread finished; awaiting finish of 1 more threads\n",
      "2019-11-17 12:59:23,657 : INFO : worker thread finished; awaiting finish of 0 more threads\n",
      "2019-11-17 12:59:23,657 : INFO : EPOCH - 29 : training on 777116 raw words (370037 effective words) took 0.2s, 1847141 effective words/s\n",
      "2019-11-17 12:59:23,828 : INFO : worker thread finished; awaiting finish of 2 more threads\n",
      "2019-11-17 12:59:23,836 : INFO : worker thread finished; awaiting finish of 1 more threads\n",
      "2019-11-17 12:59:23,837 : INFO : worker thread finished; awaiting finish of 0 more threads\n",
      "2019-11-17 12:59:23,838 : INFO : EPOCH - 30 : training on 777116 raw words (370037 effective words) took 0.2s, 2073653 effective words/s\n",
      "2019-11-17 12:59:24,011 : INFO : worker thread finished; awaiting finish of 2 more threads\n",
      "2019-11-17 12:59:24,018 : INFO : worker thread finished; awaiting finish of 1 more threads\n",
      "2019-11-17 12:59:24,021 : INFO : worker thread finished; awaiting finish of 0 more threads\n",
      "2019-11-17 12:59:24,021 : INFO : EPOCH - 31 : training on 777116 raw words (370037 effective words) took 0.2s, 2032102 effective words/s\n",
      "2019-11-17 12:59:24,196 : INFO : worker thread finished; awaiting finish of 2 more threads\n",
      "2019-11-17 12:59:24,202 : INFO : worker thread finished; awaiting finish of 1 more threads\n",
      "2019-11-17 12:59:24,208 : INFO : worker thread finished; awaiting finish of 0 more threads\n",
      "2019-11-17 12:59:24,208 : INFO : EPOCH - 32 : training on 777116 raw words (370037 effective words) took 0.2s, 2029324 effective words/s\n",
      "2019-11-17 12:59:24,390 : INFO : worker thread finished; awaiting finish of 2 more threads\n",
      "2019-11-17 12:59:24,394 : INFO : worker thread finished; awaiting finish of 1 more threads\n",
      "2019-11-17 12:59:24,401 : INFO : worker thread finished; awaiting finish of 0 more threads\n",
      "2019-11-17 12:59:24,401 : INFO : EPOCH - 33 : training on 777116 raw words (370037 effective words) took 0.2s, 1951765 effective words/s\n",
      "2019-11-17 12:59:24,602 : INFO : worker thread finished; awaiting finish of 2 more threads\n",
      "2019-11-17 12:59:24,606 : INFO : worker thread finished; awaiting finish of 1 more threads\n",
      "2019-11-17 12:59:24,614 : INFO : worker thread finished; awaiting finish of 0 more threads\n",
      "2019-11-17 12:59:24,614 : INFO : EPOCH - 34 : training on 777116 raw words (370037 effective words) took 0.2s, 1744535 effective words/s\n",
      "2019-11-17 12:59:24,791 : INFO : worker thread finished; awaiting finish of 2 more threads\n",
      "2019-11-17 12:59:24,794 : INFO : worker thread finished; awaiting finish of 1 more threads\n",
      "2019-11-17 12:59:24,803 : INFO : worker thread finished; awaiting finish of 0 more threads\n",
      "2019-11-17 12:59:24,803 : INFO : EPOCH - 35 : training on 777116 raw words (370037 effective words) took 0.2s, 1984869 effective words/s\n",
      "2019-11-17 12:59:24,992 : INFO : worker thread finished; awaiting finish of 2 more threads\n",
      "2019-11-17 12:59:24,996 : INFO : worker thread finished; awaiting finish of 1 more threads\n",
      "2019-11-17 12:59:25,001 : INFO : worker thread finished; awaiting finish of 0 more threads\n",
      "2019-11-17 12:59:25,001 : INFO : EPOCH - 36 : training on 777116 raw words (370037 effective words) took 0.2s, 1892958 effective words/s\n",
      "2019-11-17 12:59:25,186 : INFO : worker thread finished; awaiting finish of 2 more threads\n",
      "2019-11-17 12:59:25,190 : INFO : worker thread finished; awaiting finish of 1 more threads\n",
      "2019-11-17 12:59:25,193 : INFO : worker thread finished; awaiting finish of 0 more threads\n",
      "2019-11-17 12:59:25,193 : INFO : EPOCH - 37 : training on 777116 raw words (370037 effective words) took 0.2s, 1958349 effective words/s\n",
      "2019-11-17 12:59:25,369 : INFO : worker thread finished; awaiting finish of 2 more threads\n",
      "2019-11-17 12:59:25,372 : INFO : worker thread finished; awaiting finish of 1 more threads\n",
      "2019-11-17 12:59:25,381 : INFO : worker thread finished; awaiting finish of 0 more threads\n",
      "2019-11-17 12:59:25,381 : INFO : EPOCH - 38 : training on 777116 raw words (370037 effective words) took 0.2s, 2005970 effective words/s\n",
      "2019-11-17 12:59:25,556 : INFO : worker thread finished; awaiting finish of 2 more threads\n",
      "2019-11-17 12:59:25,559 : INFO : worker thread finished; awaiting finish of 1 more threads\n",
      "2019-11-17 12:59:25,563 : INFO : worker thread finished; awaiting finish of 0 more threads\n",
      "2019-11-17 12:59:25,564 : INFO : EPOCH - 39 : training on 777116 raw words (370037 effective words) took 0.2s, 2066900 effective words/s\n",
      "2019-11-17 12:59:25,735 : INFO : worker thread finished; awaiting finish of 2 more threads\n",
      "2019-11-17 12:59:25,742 : INFO : worker thread finished; awaiting finish of 1 more threads\n",
      "2019-11-17 12:59:25,745 : INFO : worker thread finished; awaiting finish of 0 more threads\n"
     ]
    },
    {
     "name": "stderr",
     "output_type": "stream",
     "text": [
      "2019-11-17 12:59:25,746 : INFO : EPOCH - 40 : training on 777116 raw words (370037 effective words) took 0.2s, 2065950 effective words/s\n",
      "2019-11-17 12:59:25,746 : INFO : training on a 31084640 raw words (14801480 effective words) took 7.6s, 1938131 effective words/s\n"
     ]
    }
   ],
   "source": [
    "model.train(train_corpus, total_examples=model.corpus_count, epochs=model.epochs)"
   ]
  },
  {
   "cell_type": "markdown",
   "metadata": {},
   "source": [
    "Now, we can use the trained model to infer a vector for any piece of text\n",
    "by passing a list of words to the ``model.infer_vector`` function. This\n",
    "vector can then be compared with other vectors via cosine similarity.\n",
    "\n",
    "\n"
   ]
  },
  {
   "cell_type": "code",
   "execution_count": 9,
   "metadata": {},
   "outputs": [],
   "source": [
    "with open('data/HMOR/all_characters.txt') as f:\n",
    "    lines = f.readlines()"
   ]
  },
  {
   "cell_type": "code",
   "execution_count": 14,
   "metadata": {},
   "outputs": [],
   "source": [
    "similarity_matrix = np.zeros([45,45])\n",
    "for i in range(45):\n",
    "    for j in range(45):\n",
    "        similarity_matrix[i,j] = metrics.pairwise.cosine_similarity(model.infer_vector(lines[i].split()).reshape(1, -1),model.infer_vector(lines[j].split()).reshape(1, -1))"
   ]
  },
  {
   "cell_type": "code",
   "execution_count": 15,
   "metadata": {},
   "outputs": [
    {
     "data": {
      "text/plain": [
       "<matplotlib.axes._subplots.AxesSubplot at 0x7fa388044710>"
      ]
     },
     "execution_count": 15,
     "metadata": {},
     "output_type": "execute_result"
    },
    {
     "data": {
      "image/png": "[encoded data removed]",
      "text/plain": [
       "<Figure size 1080x1080 with 2 Axes>"
      ]
     },
     "metadata": {},
     "output_type": "display_data"
    }
   ],
   "source": [
    "import seaborn as sns; sns.set()\n",
    "from matplotlib import pyplot\n",
    "pyplot.figure(figsize=(15, 15)) # width and height in inches\n",
    "sns.heatmap(similarity_matrix, cbar = True,  square = True, annot=False,annot_kws={'size': 15},  cmap= 'coolwarm')"
   ]
  },
  {
   "cell_type": "raw",
   "metadata": {},
   "source": [
    "np.savetxt(\"similarity_matrix.csv\", similarity_matrix, delimiter=\";\")"
   ]
  },
  {
   "cell_type": "markdown",
   "metadata": {},
   "source": [
    "Conclusion\n",
    "----------\n",
    "\n",
    "Let's review what we've seen in this tutorial:\n",
    "\n",
    "0. Review the relevant models: bag-of-words, Word2Vec, Doc2Vec\n",
    "1. Load and preprocess the training and test corpora (see `core_concepts_corpus`)\n",
    "2. Train a Doc2Vec `core_concepts_model` model using the training corpus\n",
    "3. Demonstrate how the trained model can be used to infer a `core_concepts_vector`\n",
    "4. Assess the model\n",
    "5. Test the model on the test corpus\n",
    "\n",
    "That's it! Doc2Vec is a great way to explore relationships between documents.\n",
    "\n",
    "Additional Resources\n",
    "--------------------\n",
    "\n",
    "If you'd like to know more about the subject matter of this tutorial, check out the links below.\n",
    "\n",
    "* `Word2Vec Paper <https://papers.nips.cc/paper/5021-distributed-representations-of-words-and-phrases-and-their-compositionality.pdf>`_\n",
    "* `Doc2Vec Paper <https://cs.stanford.edu/~quocle/paragraph_vector.pdf>`_\n",
    "* `Dr. Michael D. Lee's Website <http://faculty.sites.uci.edu/mdlee>`_\n",
    "* `Lee Corpus <http://faculty.sites.uci.edu/mdlee/similarity-data/>`__\n",
    "* `IMDB Doc2Vec Tutorial <doc2vec-IMDB.ipynb>`_\n",
    "\n",
    "\n"
   ]
  }
 ],
 "metadata": {
  "kernelspec": {
   "display_name": "Python 3",
   "language": "python",
   "name": "python3"
  },
  "language_info": {
   "codemirror_mode": {
    "name": "ipython",
    "version": 3
   },
   "file_extension": ".py",
   "mimetype": "text/x-python",
   "name": "python",
   "nbconvert_exporter": "python",
   "pygments_lexer": "ipython3",
   "version": "3.7.1"
  }
 },
 "nbformat": 4,
 "nbformat_minor": 1
}
